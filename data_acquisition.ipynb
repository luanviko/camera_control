{
 "cells": [
  {
   "cell_type": "code",
   "execution_count": 16,
   "id": "037852d4-d13e-4025-bdee-ac7c0733359e",
   "metadata": {},
   "outputs": [],
   "source": [
    "from datetime import datetime\n",
    "import numpy as np\n",
    "import matplotlib.pyplot as plt\n",
    "import rawpy, tabulate"
   ]
  },
  {
   "cell_type": "code",
   "execution_count": 17,
   "id": "935046d7-facd-4c09-bced-fd356776712e",
   "metadata": {},
   "outputs": [],
   "source": [
    "from utils import Run, Photo, Spot, Camera, gphoto2"
   ]
  },
  {
   "cell_type": "markdown",
   "id": "116ea9d7-7f94-4a97-ac9c-5150f7e54a84",
   "metadata": {},
   "source": [
    "# Data Acquisition"
   ]
  },
  {
   "cell_type": "markdown",
   "id": "533b78e5-09fd-4d61-95d5-a6dd1c3b7580",
   "metadata": {},
   "source": [
    "## Run information"
   ]
  },
  {
   "cell_type": "markdown",
   "id": "28166c31-9261-4b48-bd7d-f2ce03eccda6",
   "metadata": {},
   "source": [
    "* Set run number.\n",
    "* Set LED System serial number.\n",
    "* Set date.\n",
    "* Set photo storage folder.\n",
    "* Set fitted_spot storage folder."
   ]
  },
  {
   "cell_type": "code",
   "execution_count": 18,
   "id": "c99ea91f-5b0f-4499-93e3-62cea1d54652",
   "metadata": {},
   "outputs": [],
   "source": [
    "run_number:int = 1999\n",
    "LED_system:int = 1999\n",
    "date:str       = datetime.now().isoformat()\n",
    "port:str       = \"\"\n",
    "data_path:str  = \"./data\""
   ]
  },
  {
   "cell_type": "code",
   "execution_count": 19,
   "id": "491d9b43-9147-4295-88be-25612b17d648",
   "metadata": {},
   "outputs": [
    {
     "name": "stdout",
     "output_type": "stream",
     "text": [
      "Run info saved at: ./data/run_info/run_info_1999.json\n"
     ]
    }
   ],
   "source": [
    "run = Run(run_number, LED_system, date, data_path, port)\n",
    "run.save_run_info()"
   ]
  },
  {
   "cell_type": "markdown",
   "id": "63c756e5-a19c-4140-a09d-65358da305de",
   "metadata": {},
   "source": [
    "* Set photo ISO.\n",
    "* Take a photo of the spot.\n",
    "* Try to find contour and fit circle.\n",
    "* If fit does not converge, change ISO to larger value."
   ]
  },
  {
   "cell_type": "markdown",
   "id": "deb540ac-7069-4da3-a406-508e726d4428",
   "metadata": {},
   "source": [
    "## Find Camera Port"
   ]
  },
  {
   "cell_type": "code",
   "execution_count": 23,
   "id": "aa81f2a2-463c-41a9-a862-5e19660c9f32",
   "metadata": {},
   "outputs": [
    {
     "data": {
      "text/plain": [
       "CompletedProcess(args='gphoto2 --auto-detect', returncode=0, stdout='Model                          Port            \\n----------------------------------------------------------\\nSony DSC-A7r IV (Control)      usb:001,007     \\n', stderr='')"
      ]
     },
     "execution_count": 23,
     "metadata": {},
     "output_type": "execute_result"
    }
   ],
   "source": [
    "gphoto = gphoto2()\n",
    "gphoto.auto_detect()"
   ]
  },
  {
   "cell_type": "code",
   "execution_count": 21,
   "id": "56d7df39-8538-4f8b-8695-dbe4b419bdc7",
   "metadata": {},
   "outputs": [
    {
     "name": "stdout",
     "output_type": "stream",
     "text": [
      "Model                          Port            \n",
      "----------------------------------------------------------\n",
      "Sony DSC-A7r IV (Control)      usb:001,007     \n"
     ]
    }
   ],
   "source": [
    "ret = gphoto.auto_detect()\n",
    "gphoto.print_return(ret)"
   ]
  },
  {
   "cell_type": "code",
   "execution_count": 25,
   "id": "b775347d-b903-4ae1-8d44-15eefb306221",
   "metadata": {
    "scrolled": true
   },
   "outputs": [
    {
     "name": "stdout",
     "output_type": "stream",
     "text": [
      "/main/actions/autofocus\n",
      "/main/actions/manualfocus\n",
      "/main/actions/capture\n",
      "/main/actions/bulb\n",
      "/main/actions/movie\n",
      "/main/actions/focusmagnifier\n",
      "/main/actions/spotfocusarea\n",
      "/main/actions/opcode\n",
      "/main/settings/capturetarget\n",
      "/main/status/serialnumber\n",
      "/main/status/manufacturer\n",
      "/main/status/cameramodel\n",
      "/main/status/deviceversion\n",
      "/main/status/vendorextension\n",
      "/main/status/batterylevel\n",
      "/main/imgsettings/imagesize\n",
      "/main/imgsettings/iso\n",
      "/main/imgsettings/colortemperature\n",
      "/main/imgsettings/whitebalance\n",
      "/main/capturesettings/zoom\n",
      "/main/capturesettings/exposurecompensation\n",
      "/main/capturesettings/flashmode\n",
      "/main/capturesettings/f-number\n",
      "/main/capturesettings/imagequality\n",
      "/main/capturesettings/jpegquality\n",
      "/main/capturesettings/pcsaveimgsize\n",
      "/main/capturesettings/pcsaveimgformat\n",
      "/main/capturesettings/focalposition\n",
      "/main/capturesettings/focusmode\n",
      "/main/capturesettings/aspectratio\n",
      "/main/capturesettings/capturemode\n",
      "/main/capturesettings/exposuremetermode\n",
      "/main/capturesettings/shutterspeed\n",
      "/main/capturesettings/liveviewsettingeffect\n",
      "/main/capturesettings/focusarea\n",
      "/main/other/5005\n",
      "/main/other/5007\n",
      "/main/other/500a\n",
      "/main/other/500b\n",
      "/main/other/500c\n",
      "/main/other/500e\n",
      "/main/other/5010\n",
      "/main/other/5013\n",
      "/main/other/d200\n",
      "/main/other/d201\n",
      "/main/other/d203\n",
      "/main/other/d20d\n",
      "/main/other/d20e\n",
      "/main/other/d20f\n",
      "/main/other/d210\n",
      "/main/other/d211\n",
      "/main/other/d213\n",
      "/main/other/d214\n",
      "/main/other/d215\n",
      "/main/other/d217\n",
      "/main/other/d218\n",
      "/main/other/d21b\n",
      "/main/other/d21c\n",
      "/main/other/d21d\n",
      "/main/other/d21e\n",
      "/main/other/d21f\n",
      "/main/other/d221\n",
      "/main/other/d222\n",
      "/main/other/d223\n",
      "/main/other/d22a\n",
      "/main/other/d22c\n",
      "/main/other/d231\n",
      "/main/other/d235\n",
      "/main/other/d236\n",
      "/main/other/d238\n",
      "/main/other/d239\n",
      "/main/other/d23a\n",
      "/main/other/d23b\n",
      "/main/other/d23c\n",
      "/main/other/d23d\n",
      "/main/other/d23e\n",
      "/main/other/d23f\n",
      "/main/other/d240\n",
      "/main/other/d241\n",
      "/main/other/d242\n",
      "/main/other/d243\n",
      "/main/other/d244\n",
      "/main/other/d245\n",
      "/main/other/d246\n",
      "/main/other/d247\n",
      "/main/other/d248\n",
      "/main/other/d249\n",
      "/main/other/d24a\n",
      "/main/other/d24c\n",
      "/main/other/d24e\n",
      "/main/other/d24f\n",
      "/main/other/d250\n",
      "/main/other/d251\n",
      "/main/other/d252\n",
      "/main/other/d253\n",
      "/main/other/d254\n",
      "/main/other/d255\n",
      "/main/other/d256\n",
      "/main/other/d257\n",
      "/main/other/d258\n",
      "/main/other/d259\n",
      "/main/other/d25a\n",
      "/main/other/d25b\n",
      "/main/other/d25c\n",
      "/main/other/d25d\n",
      "/main/other/d25f\n",
      "/main/other/d260\n",
      "/main/other/d261\n",
      "/main/other/d262\n",
      "/main/other/d263\n",
      "/main/other/d264\n",
      "/main/other/d267\n",
      "/main/other/d268\n",
      "/main/other/d269\n",
      "/main/other/d26a\n",
      "/main/other/d26b\n",
      "/main/other/d26c\n",
      "/main/other/d26d\n",
      "/main/other/d26e\n",
      "/main/other/d26f\n",
      "/main/other/d270\n",
      "/main/other/d271\n",
      "/main/other/d272\n",
      "/main/other/d273\n",
      "/main/other/d278\n",
      "/main/other/d2c1\n",
      "/main/other/d2c2\n",
      "/main/other/d2c3\n",
      "/main/other/d2c7\n",
      "/main/other/d2c8\n",
      "/main/other/d2c9\n",
      "/main/other/d2d1\n",
      "/main/other/d2d9\n",
      "/main/other/d2dc\n",
      "/main/other/d2dd\n"
     ]
    }
   ],
   "source": [
    "ret = gphoto.list_config(port=\"usb:001,007\")\n",
    "gphoto.print_return(ret)"
   ]
  },
  {
   "cell_type": "markdown",
   "id": "5dcdc9f5-de3e-4543-a7a6-5ec22fdafcbc",
   "metadata": {},
   "source": [
    "## Documentation"
   ]
  },
  {
   "cell_type": "code",
   "execution_count": 26,
   "id": "72b30134-fb82-470c-9206-a0256e13fde7",
   "metadata": {},
   "outputs": [],
   "source": [
    "sony = Camera(port='usb:001,007')"
   ]
  },
  {
   "cell_type": "code",
   "execution_count": 27,
   "id": "dd4dd26b-6c7b-4316-a59c-e569e8e56e90",
   "metadata": {},
   "outputs": [
    {
     "name": "stdout",
     "output_type": "stream",
     "text": [
      "|   Choice | ISO    |\n",
      "|---------:|:-------|\n",
      "|        0 | Auto   |\n",
      "|        1 | 50     |\n",
      "|        2 | 64     |\n",
      "|        3 | 80     |\n",
      "|        4 | 100    |\n",
      "|        5 | 125    |\n",
      "|        6 | 160    |\n",
      "|        7 | 200    |\n",
      "|        8 | 250    |\n",
      "|        9 | 320    |\n",
      "|       10 | 400    |\n",
      "|       11 | 500    |\n",
      "|       12 | 640    |\n",
      "|       13 | 800    |\n",
      "|       14 | 1000   |\n",
      "|       15 | 1250   |\n",
      "|       16 | 1600   |\n",
      "|       17 | 2000   |\n",
      "|       18 | 2500   |\n",
      "|       19 | 3200   |\n",
      "|       20 | 4000   |\n",
      "|       21 | 5000   |\n",
      "|       22 | 6400   |\n",
      "|       23 | 8000   |\n",
      "|       24 | 10000  |\n",
      "|       25 | 12800  |\n",
      "|       26 | 16000  |\n",
      "|       27 | 20000  |\n",
      "|       28 | 25600  |\n",
      "|       29 | 32000  |\n",
      "|       30 | 40000  |\n",
      "|       31 | 51200  |\n",
      "|       32 | 64000  |\n",
      "|       33 | 80000  |\n",
      "|       34 | 102400 |\n"
     ]
    }
   ],
   "source": [
    "iso_return = sony.list_iso()\n",
    "iso_data = [['Choice', 'ISO']]\n",
    "for line in iso_return.stdout.split('\\n'):\n",
    "    if 'Choice' in line:\n",
    "        rows = line.split(\" \")\n",
    "        iso_data.append( [rows[1], rows[2]] )\n",
    "table = tabulate.tabulate(iso_data, headers=\"firstrow\", tablefmt=\"pipe\")\n",
    "print(table)"
   ]
  },
  {
   "cell_type": "code",
   "execution_count": 28,
   "id": "2234e39a-107f-4254-9420-0f21972c1b70",
   "metadata": {},
   "outputs": [
    {
     "name": "stdout",
     "output_type": "stream",
     "text": [
      "|   Choice | Shutter Speed   |\n",
      "|---------:|:----------------|\n",
      "|        0 | 0/0             |\n",
      "|        1 | 30              |\n",
      "|        2 | 25              |\n",
      "|        3 | 20              |\n",
      "|        4 | 15              |\n",
      "|        5 | 13              |\n",
      "|        6 | 10              |\n",
      "|        7 | 8               |\n",
      "|        8 | 6               |\n",
      "|        9 | 5               |\n",
      "|       10 | 4               |\n",
      "|       11 | 32/10           |\n",
      "|       12 | 25/10           |\n",
      "|       13 | 2               |\n",
      "|       14 | 16/10           |\n",
      "|       15 | 13/10           |\n",
      "|       16 | 1               |\n",
      "|       17 | 8/10            |\n",
      "|       18 | 6/10            |\n",
      "|       19 | 5/10            |\n",
      "|       20 | 4/10            |\n",
      "|       21 | 1/3             |\n",
      "|       22 | 1/4             |\n",
      "|       23 | 1/5             |\n",
      "|       24 | 1/6             |\n",
      "|       25 | 1/8             |\n",
      "|       26 | 1/10            |\n",
      "|       27 | 1/13            |\n",
      "|       28 | 1/15            |\n",
      "|       29 | 1/20            |\n",
      "|       30 | 1/25            |\n",
      "|       31 | 1/30            |\n",
      "|       32 | 1/40            |\n",
      "|       33 | 1/50            |\n",
      "|       34 | 1/60            |\n",
      "|       35 | 1/80            |\n",
      "|       36 | 1/100           |\n",
      "|       37 | 1/125           |\n",
      "|       38 | 1/160           |\n",
      "|       39 | 1/200           |\n",
      "|       40 | 1/250           |\n",
      "|       41 | 1/320           |\n",
      "|       42 | 1/400           |\n",
      "|       43 | 1/500           |\n",
      "|       44 | 1/640           |\n",
      "|       45 | 1/800           |\n",
      "|       46 | 1/1000          |\n",
      "|       47 | 1/1250          |\n",
      "|       48 | 1/1600          |\n",
      "|       49 | 1/2000          |\n",
      "|       50 | 1/2500          |\n",
      "|       51 | 1/3200          |\n",
      "|       52 | 1/4000          |\n",
      "|       53 | 1/5000          |\n",
      "|       54 | 1/6400          |\n",
      "|       55 | 1/8000          |\n",
      "|       56 | Bulb            |\n"
     ]
    }
   ],
   "source": [
    "shutter_return = sony.list_shutterspeed()\n",
    "shutter_data = [['Choice', 'Shutter Speed']]\n",
    "for line in shutter_return.stdout.split('\\n'):\n",
    "    if 'Choice' in line:\n",
    "        rows = line.split(\" \")\n",
    "        shutter_data.append( [rows[1], rows[2]] )\n",
    "table = tabulate.tabulate(shutter_data, headers=\"firstrow\", tablefmt=\"pipe\")\n",
    "print(table)"
   ]
  },
  {
   "cell_type": "markdown",
   "id": "46b21cf3-50a2-49f7-b6e6-f1e628a87b60",
   "metadata": {},
   "source": [
    "## Check Current and Change Values"
   ]
  },
  {
   "cell_type": "code",
   "execution_count": 33,
   "id": "e28c3225-c7a5-4286-8d6a-d2ac44fb488b",
   "metadata": {},
   "outputs": [
    {
     "data": {
      "text/plain": [
       "('Auto ISO', '1/500')"
      ]
     },
     "execution_count": 33,
     "metadata": {},
     "output_type": "execute_result"
    }
   ],
   "source": [
    "sony.get_iso(), sony.get_shutterspeed()"
   ]
  },
  {
   "cell_type": "code",
   "execution_count": 30,
   "id": "bb693141-1356-4b81-9834-6cc77c2328f7",
   "metadata": {},
   "outputs": [],
   "source": [
    "ret = sony.change_shutterspeed(\"43\")\n",
    "sony.print_return(ret)"
   ]
  },
  {
   "cell_type": "code",
   "execution_count": 31,
   "id": "08ba6f2d-6c13-49c9-b40e-5e4bb06a95a1",
   "metadata": {},
   "outputs": [],
   "source": [
    "ret = sony.get_iso()"
   ]
  },
  {
   "cell_type": "code",
   "execution_count": 32,
   "id": "d8055b81-24ad-4446-8ae8-64b541b00bf3",
   "metadata": {},
   "outputs": [],
   "source": [
    "ret = sony.change_iso(\"0\")"
   ]
  },
  {
   "cell_type": "markdown",
   "id": "bb9d57b0-6ecf-41ce-a19b-7c9c91c73326",
   "metadata": {},
   "source": [
    "## Capture Photo"
   ]
  },
  {
   "cell_type": "code",
   "execution_count": 17,
   "id": "b4b64875-0dcd-4d0e-9ed6-fc72a16c1094",
   "metadata": {},
   "outputs": [
    {
     "name": "stdout",
     "output_type": "stream",
     "text": [
      "New file is in location /capt_DSC04802.ARW on the camera\n",
      "Saving file as ./data/photos/test_2025-06-16-T170004.ARW\n",
      "Deleting file /capt_DSC04802.ARW on the camera\n",
      "New file is in location /capt_DSC04802.JPG on the camera\n",
      "Saving file as ./data/photos/test_2025-06-16-T170006.JPG\n",
      "Deleting file /capt_DSC04802.JPG on the camera\n"
     ]
    }
   ],
   "source": [
    "photo_dir = './data/photos'\n",
    "prefix = 'test'\n",
    "ret = sony.capture_photo(photo_dir, prefix, debug = False)\n",
    "sony.print_return(ret)"
   ]
  }
 ],
 "metadata": {
  "kernelspec": {
   "display_name": "Python 3 (ipykernel)",
   "language": "python",
   "name": "python3"
  },
  "language_info": {
   "codemirror_mode": {
    "name": "ipython",
    "version": 3
   },
   "file_extension": ".py",
   "mimetype": "text/x-python",
   "name": "python",
   "nbconvert_exporter": "python",
   "pygments_lexer": "ipython3",
   "version": "3.13.3"
  }
 },
 "nbformat": 4,
 "nbformat_minor": 5
}
